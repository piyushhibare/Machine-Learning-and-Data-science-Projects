{
 "cells": [
  {
   "cell_type": "code",
   "execution_count": 1,
   "metadata": {},
   "outputs": [],
   "source": [
    "import tweepy"
   ]
  },
  {
   "cell_type": "code",
   "execution_count": 2,
   "metadata": {},
   "outputs": [],
   "source": [
    "from textblob import TextBlob"
   ]
  },
  {
   "cell_type": "code",
   "execution_count": 3,
   "metadata": {},
   "outputs": [],
   "source": [
    "consumer_key = 'aFPZZIjsHLsiybwmkpd9Omkjc'\n",
    "consumer_secret = 'UO85ucu82NrPN5x5x91XhAMUMygOO1bvqVyH5koXaoQFfb6lle'"
   ]
  },
  {
   "cell_type": "code",
   "execution_count": 4,
   "metadata": {},
   "outputs": [],
   "source": [
    "access_token = '163712755-vHalwAPKqaZmYDR5D2FFOBwYT9houd2ZEswI7id7'\n",
    "access_token_secret = 'zjFdmEy1Cty8fpBhi7vFX0T2FCszUqYSMSrfhONGBoLHv'"
   ]
  },
  {
   "cell_type": "code",
   "execution_count": 6,
   "metadata": {},
   "outputs": [],
   "source": [
    "auth = tweepy.OAuthHandler(consumer_key, consumer_secret)\n",
    "auth.set_access_token(access_token, access_token_secret)"
   ]
  },
  {
   "cell_type": "code",
   "execution_count": 7,
   "metadata": {},
   "outputs": [],
   "source": [
    "api = tweepy.API(auth)"
   ]
  },
  {
   "cell_type": "code",
   "execution_count": 50,
   "metadata": {},
   "outputs": [],
   "source": [
    "public_tweets = api.search('#CBSE10THResult2018')"
   ]
  },
  {
   "cell_type": "code",
   "execution_count": 51,
   "metadata": {},
   "outputs": [
    {
     "name": "stdout",
     "output_type": "stream",
     "text": [
      "Scoring 499 out of 500 in class X &amp; XII, just beyond perfection. \n",
      "These kind of marks ll build a huge amnt of… https://t.co/VaGkZc55hU\n",
      "Sentiment(polarity=0.5, subjectivity=0.9)\n",
      "#CBSE10THResult2018\n",
      "\n",
      "https://t.co/b4ChGRLpTZ\n",
      "\n",
      "Aache number lane vaalo ko bata do ki jyaada khush na ho, 10th ka res… https://t.co/jQWNbgCVUT\n",
      "Sentiment(polarity=0.0, subjectivity=0.0)\n",
      "RT @SwamiGeetika: Have ever seen someone celebrating failing the exams? A totally new perspective :)\n",
      "\n",
      "#CBSE10Thresult2018 https://t.co/dnQn…\n",
      "Sentiment(polarity=0.3181818181818182, subjectivity=0.7272727272727273)\n",
      "Congratulations \n",
      "#CBSEResult2018 10th topper\n",
      "First time 4 students became all india topper #CBSE10THResult2018\n",
      "Stud… https://t.co/wu1NSqpRnq\n",
      "Sentiment(polarity=0.25, subjectivity=0.3333333333333333)\n",
      "RT @sirjadejjaa: your parents, friends and relatives will congratulate you today, but I am here to tell you aisa kuch nhi ukhadliya hai tun…\n",
      "Sentiment(polarity=0.0, subjectivity=0.0)\n",
      "RT @TroluKejri: Those who couldn't score good marks In CBSE Class 10th exam, dont be sad. IIT karke bhi maine kya ukhaad liya. Daily joote…\n",
      "Sentiment(polarity=0.06666666666666665, subjectivity=0.5333333333333333)\n",
      "RT @MinakshiKandwal: 499/500.... pheww... Cant even imagine about this feeling to get this score... 4 toppers of #CBSE10THResult2018 Prakha…\n",
      "Sentiment(polarity=0.0, subjectivity=0.0)\n",
      "#CBSE10THResult2018\n",
      "#Indian_Media_Died\n",
      "आखिर संत रामपालजी माराज को बदनाम करने के पिछे भारत कि मीडीया इतनी झूठे खबरे… https://t.co/IUGmV8MX58\n",
      "Sentiment(polarity=0.0, subjectivity=0.0)\n",
      "RT @DoctorrSays: 4 students have topped class 10 #CBSE board exams with 499 out of 500 marks..  now they have acquired certificate to obtai…\n",
      "Sentiment(polarity=0.0, subjectivity=0.0)\n",
      "RT @_opaline__: Dear 10th passed students, josh josh me science nahi le lena. ☺ #CBSE10THResult2018\n",
      "Sentiment(polarity=0.0, subjectivity=0.0)\n",
      "RT @SwamiGeetika: Have ever seen someone celebrating failing the exams? A totally new perspective :)\n",
      "\n",
      "#CBSE10Thresult2018 https://t.co/dnQn…\n",
      "Sentiment(polarity=0.3181818181818182, subjectivity=0.7272727272727273)\n",
      "#CBSE10THResult2018\n",
      "\n",
      "10th me marks acche Aane ki Wajah Se Students Josh Josh Me Science Le lete Hain Phir Science U… https://t.co/mVuB3Idna9\n",
      "Sentiment(polarity=0.0, subjectivity=0.0)\n",
      "#MudraKiBaatPMKeSath #SaafNiyatSahiVikas #CBSE10THResult2018 https://t.co/ox09CNOXwI\n",
      "Sentiment(polarity=0.0, subjectivity=0.0)\n",
      "RT @bsindia: #CBSE10THResult2018: 186,000 or 11.45 per cent students have got compartment; pass percentage at 86.7% https://t.co/EDLEfCzokn…\n",
      "Sentiment(polarity=0.0, subjectivity=0.0)\n",
      "RT @prakharshubham: Mohalla aunties when they heard that 10th results are out\n",
      "#CBSE10THResult2018 https://t.co/Y39TRtyOKK\n",
      "Sentiment(polarity=0.0, subjectivity=0.0)\n"
     ]
    }
   ],
   "source": [
    "for tweet in public_tweets:\n",
    "    print(tweet.text)\n",
    "    analysis = TextBlob(tweet.text)\n",
    "    print(analysis.sentiment)"
   ]
  },
  {
   "cell_type": "code",
   "execution_count": null,
   "metadata": {},
   "outputs": [],
   "source": []
  }
 ],
 "metadata": {
  "kernelspec": {
   "display_name": "Python 3",
   "language": "python",
   "name": "python3"
  },
  "language_info": {
   "codemirror_mode": {
    "name": "ipython",
    "version": 3
   },
   "file_extension": ".py",
   "mimetype": "text/x-python",
   "name": "python",
   "nbconvert_exporter": "python",
   "pygments_lexer": "ipython3",
   "version": "3.6.4"
  }
 },
 "nbformat": 4,
 "nbformat_minor": 2
}
