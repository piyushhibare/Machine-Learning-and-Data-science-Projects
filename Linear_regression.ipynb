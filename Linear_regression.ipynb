{
  "nbformat": 4,
  "nbformat_minor": 0,
  "metadata": {
    "colab": {
      "name": "Linear_regression.ipynb",
      "version": "0.3.2",
      "views": {},
      "default_view": {},
      "provenance": []
    },
    "kernelspec": {
      "name": "python3",
      "display_name": "Python 3"
    }
  },
  "cells": [
    {
      "metadata": {
        "id": "sKamdBbvbjdw",
        "colab_type": "code",
        "colab": {
          "autoexec": {
            "startup": false,
            "wait_interval": 0
          }
        }
      },
      "cell_type": "code",
      "source": [
        "import pandas as pd"
      ],
      "execution_count": 0,
      "outputs": []
    },
    {
      "metadata": {
        "id": "IldQyH6sboqa",
        "colab_type": "code",
        "colab": {
          "autoexec": {
            "startup": false,
            "wait_interval": 0
          }
        }
      },
      "cell_type": "code",
      "source": [
        "data = pd.read_csv('http://www-bcf.usc.edu/~gareth/ISL/Advertising.csv', index_col=0)"
      ],
      "execution_count": 0,
      "outputs": []
    },
    {
      "metadata": {
        "id": "GmoPKBMKbz2u",
        "colab_type": "code",
        "colab": {
          "autoexec": {
            "startup": false,
            "wait_interval": 0
          },
          "base_uri": "https://localhost:8080/",
          "height": 204
        },
        "outputId": "ecfe7a3f-3058-42ed-9daf-31b8631f0099",
        "executionInfo": {
          "status": "ok",
          "timestamp": 1528092922860,
          "user_tz": -330,
          "elapsed": 1251,
          "user": {
            "displayName": "Piyush Hibare",
            "photoUrl": "https://lh3.googleusercontent.com/a/default-user=s128",
            "userId": "115506593548696884579"
          }
        }
      },
      "cell_type": "code",
      "source": [
        "data.head()"
      ],
      "execution_count": 4,
      "outputs": [
        {
          "output_type": "execute_result",
          "data": {
            "text/html": [
              "<div>\n",
              "<style scoped>\n",
              "    .dataframe tbody tr th:only-of-type {\n",
              "        vertical-align: middle;\n",
              "    }\n",
              "\n",
              "    .dataframe tbody tr th {\n",
              "        vertical-align: top;\n",
              "    }\n",
              "\n",
              "    .dataframe thead th {\n",
              "        text-align: right;\n",
              "    }\n",
              "</style>\n",
              "<table border=\"1\" class=\"dataframe\">\n",
              "  <thead>\n",
              "    <tr style=\"text-align: right;\">\n",
              "      <th></th>\n",
              "      <th>TV</th>\n",
              "      <th>radio</th>\n",
              "      <th>newspaper</th>\n",
              "      <th>sales</th>\n",
              "    </tr>\n",
              "  </thead>\n",
              "  <tbody>\n",
              "    <tr>\n",
              "      <th>1</th>\n",
              "      <td>230.1</td>\n",
              "      <td>37.8</td>\n",
              "      <td>69.2</td>\n",
              "      <td>22.1</td>\n",
              "    </tr>\n",
              "    <tr>\n",
              "      <th>2</th>\n",
              "      <td>44.5</td>\n",
              "      <td>39.3</td>\n",
              "      <td>45.1</td>\n",
              "      <td>10.4</td>\n",
              "    </tr>\n",
              "    <tr>\n",
              "      <th>3</th>\n",
              "      <td>17.2</td>\n",
              "      <td>45.9</td>\n",
              "      <td>69.3</td>\n",
              "      <td>9.3</td>\n",
              "    </tr>\n",
              "    <tr>\n",
              "      <th>4</th>\n",
              "      <td>151.5</td>\n",
              "      <td>41.3</td>\n",
              "      <td>58.5</td>\n",
              "      <td>18.5</td>\n",
              "    </tr>\n",
              "    <tr>\n",
              "      <th>5</th>\n",
              "      <td>180.8</td>\n",
              "      <td>10.8</td>\n",
              "      <td>58.4</td>\n",
              "      <td>12.9</td>\n",
              "    </tr>\n",
              "  </tbody>\n",
              "</table>\n",
              "</div>"
            ],
            "text/plain": [
              "      TV  radio  newspaper  sales\n",
              "1  230.1   37.8       69.2   22.1\n",
              "2   44.5   39.3       45.1   10.4\n",
              "3   17.2   45.9       69.3    9.3\n",
              "4  151.5   41.3       58.5   18.5\n",
              "5  180.8   10.8       58.4   12.9"
            ]
          },
          "metadata": {
            "tags": []
          },
          "execution_count": 4
        }
      ]
    },
    {
      "metadata": {
        "id": "HZXtCB1Pb2yc",
        "colab_type": "code",
        "colab": {
          "autoexec": {
            "startup": false,
            "wait_interval": 0
          },
          "base_uri": "https://localhost:8080/",
          "height": 204
        },
        "outputId": "88ffd89f-d119-47ac-e48f-a14b61358ac3",
        "executionInfo": {
          "status": "ok",
          "timestamp": 1528092944853,
          "user_tz": -330,
          "elapsed": 1357,
          "user": {
            "displayName": "Piyush Hibare",
            "photoUrl": "https://lh3.googleusercontent.com/a/default-user=s128",
            "userId": "115506593548696884579"
          }
        }
      },
      "cell_type": "code",
      "source": [
        "data.tail()"
      ],
      "execution_count": 5,
      "outputs": [
        {
          "output_type": "execute_result",
          "data": {
            "text/html": [
              "<div>\n",
              "<style scoped>\n",
              "    .dataframe tbody tr th:only-of-type {\n",
              "        vertical-align: middle;\n",
              "    }\n",
              "\n",
              "    .dataframe tbody tr th {\n",
              "        vertical-align: top;\n",
              "    }\n",
              "\n",
              "    .dataframe thead th {\n",
              "        text-align: right;\n",
              "    }\n",
              "</style>\n",
              "<table border=\"1\" class=\"dataframe\">\n",
              "  <thead>\n",
              "    <tr style=\"text-align: right;\">\n",
              "      <th></th>\n",
              "      <th>TV</th>\n",
              "      <th>radio</th>\n",
              "      <th>newspaper</th>\n",
              "      <th>sales</th>\n",
              "    </tr>\n",
              "  </thead>\n",
              "  <tbody>\n",
              "    <tr>\n",
              "      <th>196</th>\n",
              "      <td>38.2</td>\n",
              "      <td>3.7</td>\n",
              "      <td>13.8</td>\n",
              "      <td>7.6</td>\n",
              "    </tr>\n",
              "    <tr>\n",
              "      <th>197</th>\n",
              "      <td>94.2</td>\n",
              "      <td>4.9</td>\n",
              "      <td>8.1</td>\n",
              "      <td>9.7</td>\n",
              "    </tr>\n",
              "    <tr>\n",
              "      <th>198</th>\n",
              "      <td>177.0</td>\n",
              "      <td>9.3</td>\n",
              "      <td>6.4</td>\n",
              "      <td>12.8</td>\n",
              "    </tr>\n",
              "    <tr>\n",
              "      <th>199</th>\n",
              "      <td>283.6</td>\n",
              "      <td>42.0</td>\n",
              "      <td>66.2</td>\n",
              "      <td>25.5</td>\n",
              "    </tr>\n",
              "    <tr>\n",
              "      <th>200</th>\n",
              "      <td>232.1</td>\n",
              "      <td>8.6</td>\n",
              "      <td>8.7</td>\n",
              "      <td>13.4</td>\n",
              "    </tr>\n",
              "  </tbody>\n",
              "</table>\n",
              "</div>"
            ],
            "text/plain": [
              "        TV  radio  newspaper  sales\n",
              "196   38.2    3.7       13.8    7.6\n",
              "197   94.2    4.9        8.1    9.7\n",
              "198  177.0    9.3        6.4   12.8\n",
              "199  283.6   42.0       66.2   25.5\n",
              "200  232.1    8.6        8.7   13.4"
            ]
          },
          "metadata": {
            "tags": []
          },
          "execution_count": 5
        }
      ]
    },
    {
      "metadata": {
        "id": "Xt78c88Zb-Q2",
        "colab_type": "code",
        "colab": {
          "autoexec": {
            "startup": false,
            "wait_interval": 0
          },
          "base_uri": "https://localhost:8080/",
          "height": 34
        },
        "outputId": "02b242b2-b540-4e85-bb13-d0f1bc7b7f96",
        "executionInfo": {
          "status": "ok",
          "timestamp": 1528092960505,
          "user_tz": -330,
          "elapsed": 1208,
          "user": {
            "displayName": "Piyush Hibare",
            "photoUrl": "https://lh3.googleusercontent.com/a/default-user=s128",
            "userId": "115506593548696884579"
          }
        }
      },
      "cell_type": "code",
      "source": [
        "data.shape"
      ],
      "execution_count": 6,
      "outputs": [
        {
          "output_type": "execute_result",
          "data": {
            "text/plain": [
              "(200, 4)"
            ]
          },
          "metadata": {
            "tags": []
          },
          "execution_count": 6
        }
      ]
    },
    {
      "metadata": {
        "id": "3JbOoHBscCHl",
        "colab_type": "code",
        "colab": {
          "autoexec": {
            "startup": false,
            "wait_interval": 0
          }
        }
      },
      "cell_type": "code",
      "source": [
        "import seaborn as sns"
      ],
      "execution_count": 0,
      "outputs": []
    },
    {
      "metadata": {
        "id": "xWimM-96cM4K",
        "colab_type": "code",
        "colab": {
          "autoexec": {
            "startup": false,
            "wait_interval": 0
          }
        }
      },
      "cell_type": "code",
      "source": [
        "%matplotlib inline"
      ],
      "execution_count": 0,
      "outputs": []
    },
    {
      "metadata": {
        "id": "fohnXdVIcP_z",
        "colab_type": "code",
        "colab": {
          "autoexec": {
            "startup": false,
            "wait_interval": 0
          }
        }
      },
      "cell_type": "code",
      "source": [
        "feature_cols = ['TV', 'radio', 'newspaper']"
      ],
      "execution_count": 0,
      "outputs": []
    },
    {
      "metadata": {
        "id": "92jBFSuwcaIW",
        "colab_type": "code",
        "colab": {
          "autoexec": {
            "startup": false,
            "wait_interval": 0
          }
        }
      },
      "cell_type": "code",
      "source": [
        "X = data[feature_cols]"
      ],
      "execution_count": 0,
      "outputs": []
    },
    {
      "metadata": {
        "id": "HvzrTP73dTCb",
        "colab_type": "code",
        "colab": {
          "autoexec": {
            "startup": false,
            "wait_interval": 0
          },
          "base_uri": "https://localhost:8080/",
          "height": 204
        },
        "outputId": "def84acc-5daa-4557-ffe2-1c465ddfeeda",
        "executionInfo": {
          "status": "ok",
          "timestamp": 1528093339845,
          "user_tz": -330,
          "elapsed": 1126,
          "user": {
            "displayName": "Piyush Hibare",
            "photoUrl": "https://lh3.googleusercontent.com/a/default-user=s128",
            "userId": "115506593548696884579"
          }
        }
      },
      "cell_type": "code",
      "source": [
        "X.head()"
      ],
      "execution_count": 21,
      "outputs": [
        {
          "output_type": "execute_result",
          "data": {
            "text/html": [
              "<div>\n",
              "<style scoped>\n",
              "    .dataframe tbody tr th:only-of-type {\n",
              "        vertical-align: middle;\n",
              "    }\n",
              "\n",
              "    .dataframe tbody tr th {\n",
              "        vertical-align: top;\n",
              "    }\n",
              "\n",
              "    .dataframe thead th {\n",
              "        text-align: right;\n",
              "    }\n",
              "</style>\n",
              "<table border=\"1\" class=\"dataframe\">\n",
              "  <thead>\n",
              "    <tr style=\"text-align: right;\">\n",
              "      <th></th>\n",
              "      <th>TV</th>\n",
              "      <th>radio</th>\n",
              "      <th>newspaper</th>\n",
              "    </tr>\n",
              "  </thead>\n",
              "  <tbody>\n",
              "    <tr>\n",
              "      <th>1</th>\n",
              "      <td>230.1</td>\n",
              "      <td>37.8</td>\n",
              "      <td>69.2</td>\n",
              "    </tr>\n",
              "    <tr>\n",
              "      <th>2</th>\n",
              "      <td>44.5</td>\n",
              "      <td>39.3</td>\n",
              "      <td>45.1</td>\n",
              "    </tr>\n",
              "    <tr>\n",
              "      <th>3</th>\n",
              "      <td>17.2</td>\n",
              "      <td>45.9</td>\n",
              "      <td>69.3</td>\n",
              "    </tr>\n",
              "    <tr>\n",
              "      <th>4</th>\n",
              "      <td>151.5</td>\n",
              "      <td>41.3</td>\n",
              "      <td>58.5</td>\n",
              "    </tr>\n",
              "    <tr>\n",
              "      <th>5</th>\n",
              "      <td>180.8</td>\n",
              "      <td>10.8</td>\n",
              "      <td>58.4</td>\n",
              "    </tr>\n",
              "  </tbody>\n",
              "</table>\n",
              "</div>"
            ],
            "text/plain": [
              "      TV  radio  newspaper\n",
              "1  230.1   37.8       69.2\n",
              "2   44.5   39.3       45.1\n",
              "3   17.2   45.9       69.3\n",
              "4  151.5   41.3       58.5\n",
              "5  180.8   10.8       58.4"
            ]
          },
          "metadata": {
            "tags": []
          },
          "execution_count": 21
        }
      ]
    },
    {
      "metadata": {
        "id": "Krn7QDlydewA",
        "colab_type": "code",
        "colab": {
          "autoexec": {
            "startup": false,
            "wait_interval": 0
          },
          "base_uri": "https://localhost:8080/",
          "height": 34
        },
        "outputId": "461f9a27-68c5-4970-b8d1-a4608c1839cf",
        "executionInfo": {
          "status": "ok",
          "timestamp": 1528093367894,
          "user_tz": -330,
          "elapsed": 1321,
          "user": {
            "displayName": "Piyush Hibare",
            "photoUrl": "https://lh3.googleusercontent.com/a/default-user=s128",
            "userId": "115506593548696884579"
          }
        }
      },
      "cell_type": "code",
      "source": [
        "type(X)"
      ],
      "execution_count": 22,
      "outputs": [
        {
          "output_type": "execute_result",
          "data": {
            "text/plain": [
              "pandas.core.frame.DataFrame"
            ]
          },
          "metadata": {
            "tags": []
          },
          "execution_count": 22
        }
      ]
    },
    {
      "metadata": {
        "id": "Fc36fVsydljP",
        "colab_type": "code",
        "colab": {
          "autoexec": {
            "startup": false,
            "wait_interval": 0
          },
          "base_uri": "https://localhost:8080/",
          "height": 34
        },
        "outputId": "7d2a73d3-4d51-4df2-9db4-5fd19eab1df1",
        "executionInfo": {
          "status": "ok",
          "timestamp": 1528093377514,
          "user_tz": -330,
          "elapsed": 1333,
          "user": {
            "displayName": "Piyush Hibare",
            "photoUrl": "https://lh3.googleusercontent.com/a/default-user=s128",
            "userId": "115506593548696884579"
          }
        }
      },
      "cell_type": "code",
      "source": [
        "X.shape"
      ],
      "execution_count": 23,
      "outputs": [
        {
          "output_type": "execute_result",
          "data": {
            "text/plain": [
              "(200, 3)"
            ]
          },
          "metadata": {
            "tags": []
          },
          "execution_count": 23
        }
      ]
    },
    {
      "metadata": {
        "id": "qG_ctqgKdn5d",
        "colab_type": "code",
        "colab": {
          "autoexec": {
            "startup": false,
            "wait_interval": 0
          }
        }
      },
      "cell_type": "code",
      "source": [
        "y = data['sales']"
      ],
      "execution_count": 0,
      "outputs": []
    },
    {
      "metadata": {
        "id": "3HKomFNWdq8T",
        "colab_type": "code",
        "colab": {
          "autoexec": {
            "startup": false,
            "wait_interval": 0
          },
          "base_uri": "https://localhost:8080/",
          "height": 119
        },
        "outputId": "e66832cd-2d58-4725-99d4-5fd5561685d2",
        "executionInfo": {
          "status": "ok",
          "timestamp": 1528093425253,
          "user_tz": -330,
          "elapsed": 1103,
          "user": {
            "displayName": "Piyush Hibare",
            "photoUrl": "https://lh3.googleusercontent.com/a/default-user=s128",
            "userId": "115506593548696884579"
          }
        }
      },
      "cell_type": "code",
      "source": [
        "y.head()"
      ],
      "execution_count": 26,
      "outputs": [
        {
          "output_type": "execute_result",
          "data": {
            "text/plain": [
              "1    22.1\n",
              "2    10.4\n",
              "3     9.3\n",
              "4    18.5\n",
              "5    12.9\n",
              "Name: sales, dtype: float64"
            ]
          },
          "metadata": {
            "tags": []
          },
          "execution_count": 26
        }
      ]
    },
    {
      "metadata": {
        "id": "TpvLG5hvdzmi",
        "colab_type": "code",
        "colab": {
          "autoexec": {
            "startup": false,
            "wait_interval": 0
          },
          "base_uri": "https://localhost:8080/",
          "height": 34
        },
        "outputId": "e2566f69-b10e-4b68-92e1-5ae3e21bd9d6",
        "executionInfo": {
          "status": "ok",
          "timestamp": 1528093437064,
          "user_tz": -330,
          "elapsed": 1195,
          "user": {
            "displayName": "Piyush Hibare",
            "photoUrl": "https://lh3.googleusercontent.com/a/default-user=s128",
            "userId": "115506593548696884579"
          }
        }
      },
      "cell_type": "code",
      "source": [
        "type(y)"
      ],
      "execution_count": 27,
      "outputs": [
        {
          "output_type": "execute_result",
          "data": {
            "text/plain": [
              "pandas.core.series.Series"
            ]
          },
          "metadata": {
            "tags": []
          },
          "execution_count": 27
        }
      ]
    },
    {
      "metadata": {
        "id": "9NJX3Im7d2dy",
        "colab_type": "code",
        "colab": {
          "autoexec": {
            "startup": false,
            "wait_interval": 0
          },
          "base_uri": "https://localhost:8080/",
          "height": 34
        },
        "outputId": "3f207980-e46f-4a83-b8ff-c042e3391874",
        "executionInfo": {
          "status": "ok",
          "timestamp": 1528093444209,
          "user_tz": -330,
          "elapsed": 1141,
          "user": {
            "displayName": "Piyush Hibare",
            "photoUrl": "https://lh3.googleusercontent.com/a/default-user=s128",
            "userId": "115506593548696884579"
          }
        }
      },
      "cell_type": "code",
      "source": [
        "y.shape"
      ],
      "execution_count": 28,
      "outputs": [
        {
          "output_type": "execute_result",
          "data": {
            "text/plain": [
              "(200,)"
            ]
          },
          "metadata": {
            "tags": []
          },
          "execution_count": 28
        }
      ]
    },
    {
      "metadata": {
        "id": "LULFPdUhd4OT",
        "colab_type": "code",
        "colab": {
          "autoexec": {
            "startup": false,
            "wait_interval": 0
          }
        }
      },
      "cell_type": "code",
      "source": [
        "from sklearn.cross_validation import train_test_split\n",
        "X_train, X_test, y_train, y_test = train_test_split(X, y, random_state=1)"
      ],
      "execution_count": 0,
      "outputs": []
    },
    {
      "metadata": {
        "id": "SUTYsLC5eEVL",
        "colab_type": "code",
        "colab": {
          "autoexec": {
            "startup": false,
            "wait_interval": 0
          },
          "base_uri": "https://localhost:8080/",
          "height": 34
        },
        "outputId": "1acd4c3c-937a-4174-890e-fc63fcc19927",
        "executionInfo": {
          "status": "ok",
          "timestamp": 1528093632102,
          "user_tz": -330,
          "elapsed": 1138,
          "user": {
            "displayName": "Piyush Hibare",
            "photoUrl": "https://lh3.googleusercontent.com/a/default-user=s128",
            "userId": "115506593548696884579"
          }
        }
      },
      "cell_type": "code",
      "source": [
        "X_train.shape\n",
        "X_test.shape\n",
        "y_train.shape\n",
        "y_test.shape"
      ],
      "execution_count": 35,
      "outputs": [
        {
          "output_type": "execute_result",
          "data": {
            "text/plain": [
              "(50,)"
            ]
          },
          "metadata": {
            "tags": []
          },
          "execution_count": 35
        }
      ]
    },
    {
      "metadata": {
        "id": "zmUmuP5WeMnK",
        "colab_type": "code",
        "colab": {
          "autoexec": {
            "startup": false,
            "wait_interval": 0
          }
        }
      },
      "cell_type": "code",
      "source": [
        "from sklearn.linear_model import LinearRegression"
      ],
      "execution_count": 0,
      "outputs": []
    },
    {
      "metadata": {
        "id": "f46nolBGevUv",
        "colab_type": "code",
        "colab": {
          "autoexec": {
            "startup": false,
            "wait_interval": 0
          }
        }
      },
      "cell_type": "code",
      "source": [
        "linreg = LinearRegression()"
      ],
      "execution_count": 0,
      "outputs": []
    },
    {
      "metadata": {
        "id": "7w9zxzZyeygU",
        "colab_type": "code",
        "colab": {
          "autoexec": {
            "startup": false,
            "wait_interval": 0
          },
          "base_uri": "https://localhost:8080/",
          "height": 34
        },
        "outputId": "51085bd8-0e88-4b2d-cd10-20718237411d",
        "executionInfo": {
          "status": "ok",
          "timestamp": 1528093693715,
          "user_tz": -330,
          "elapsed": 1162,
          "user": {
            "displayName": "Piyush Hibare",
            "photoUrl": "https://lh3.googleusercontent.com/a/default-user=s128",
            "userId": "115506593548696884579"
          }
        }
      },
      "cell_type": "code",
      "source": [
        "linreg.fit(X_train, y_train)"
      ],
      "execution_count": 38,
      "outputs": [
        {
          "output_type": "execute_result",
          "data": {
            "text/plain": [
              "LinearRegression(copy_X=True, fit_intercept=True, n_jobs=1, normalize=False)"
            ]
          },
          "metadata": {
            "tags": []
          },
          "execution_count": 38
        }
      ]
    },
    {
      "metadata": {
        "id": "zSUAcB9ke1Ir",
        "colab_type": "code",
        "colab": {
          "autoexec": {
            "startup": false,
            "wait_interval": 0
          },
          "base_uri": "https://localhost:8080/",
          "height": 51
        },
        "outputId": "502b77a1-f146-4fcf-fed4-e90c75b86ea9",
        "executionInfo": {
          "status": "ok",
          "timestamp": 1528093717906,
          "user_tz": -330,
          "elapsed": 1282,
          "user": {
            "displayName": "Piyush Hibare",
            "photoUrl": "https://lh3.googleusercontent.com/a/default-user=s128",
            "userId": "115506593548696884579"
          }
        }
      },
      "cell_type": "code",
      "source": [
        "print(linreg.intercept_)\n",
        "print(linreg.coef_)"
      ],
      "execution_count": 39,
      "outputs": [
        {
          "output_type": "stream",
          "text": [
            "2.87696662231793\n",
            "[0.04656457 0.17915812 0.00345046]\n"
          ],
          "name": "stdout"
        }
      ]
    },
    {
      "metadata": {
        "id": "mnSrGlq2e7AV",
        "colab_type": "code",
        "colab": {
          "autoexec": {
            "startup": false,
            "wait_interval": 0
          },
          "base_uri": "https://localhost:8080/",
          "height": 68
        },
        "outputId": "f89f6517-91bd-4cf4-f053-36dc80db9730",
        "executionInfo": {
          "status": "ok",
          "timestamp": 1528093729748,
          "user_tz": -330,
          "elapsed": 1181,
          "user": {
            "displayName": "Piyush Hibare",
            "photoUrl": "https://lh3.googleusercontent.com/a/default-user=s128",
            "userId": "115506593548696884579"
          }
        }
      },
      "cell_type": "code",
      "source": [
        "list(zip(feature_cols, linreg.coef_))"
      ],
      "execution_count": 40,
      "outputs": [
        {
          "output_type": "execute_result",
          "data": {
            "text/plain": [
              "[('TV', 0.046564567874150295),\n",
              " ('radio', 0.17915812245088839),\n",
              " ('newspaper', 0.0034504647111804343)]"
            ]
          },
          "metadata": {
            "tags": []
          },
          "execution_count": 40
        }
      ]
    },
    {
      "metadata": {
        "id": "HCzWaF5Ge969",
        "colab_type": "code",
        "colab": {
          "autoexec": {
            "startup": false,
            "wait_interval": 0
          }
        }
      },
      "cell_type": "code",
      "source": [
        "y_pred = linreg.predict(X_test)"
      ],
      "execution_count": 0,
      "outputs": []
    },
    {
      "metadata": {
        "id": "AqCwFNnvfFiw",
        "colab_type": "code",
        "colab": {
          "autoexec": {
            "startup": false,
            "wait_interval": 0
          },
          "base_uri": "https://localhost:8080/",
          "height": 187
        },
        "outputId": "fe85a913-32c5-4537-ca3b-c34d3974ed87",
        "executionInfo": {
          "status": "ok",
          "timestamp": 1528093770409,
          "user_tz": -330,
          "elapsed": 1262,
          "user": {
            "displayName": "Piyush Hibare",
            "photoUrl": "https://lh3.googleusercontent.com/a/default-user=s128",
            "userId": "115506593548696884579"
          }
        }
      },
      "cell_type": "code",
      "source": [
        "y_pred"
      ],
      "execution_count": 42,
      "outputs": [
        {
          "output_type": "execute_result",
          "data": {
            "text/plain": [
              "array([21.70910292, 16.41055243,  7.60955058, 17.80769552, 18.6146359 ,\n",
              "       23.83573998, 16.32488681, 13.43225536,  9.17173403, 17.333853  ,\n",
              "       14.44479482,  9.83511973, 17.18797614, 16.73086831, 15.05529391,\n",
              "       15.61434433, 12.42541574, 17.17716376, 11.08827566, 18.00537501,\n",
              "        9.28438889, 12.98458458,  8.79950614, 10.42382499, 11.3846456 ,\n",
              "       14.98082512,  9.78853268, 19.39643187, 18.18099936, 17.12807566,\n",
              "       21.54670213, 14.69809481, 16.24641438, 12.32114579, 19.92422501,\n",
              "       15.32498602, 13.88726522, 10.03162255, 20.93105915,  7.44936831,\n",
              "        3.64695761,  7.22020178,  5.9962782 , 18.43381853,  8.39408045,\n",
              "       14.08371047, 15.02195699, 20.35836418, 20.57036347, 19.60636679])"
            ]
          },
          "metadata": {
            "tags": []
          },
          "execution_count": 42
        }
      ]
    },
    {
      "metadata": {
        "id": "TsBQbGEMfH1K",
        "colab_type": "code",
        "colab": {
          "autoexec": {
            "startup": false,
            "wait_interval": 0
          }
        }
      },
      "cell_type": "code",
      "source": [
        "true = [100, 50, 30, 20]\n",
        "pred = [90, 50, 50, 30]"
      ],
      "execution_count": 0,
      "outputs": []
    },
    {
      "metadata": {
        "id": "he_ndKkNfRsX",
        "colab_type": "code",
        "colab": {
          "autoexec": {
            "startup": false,
            "wait_interval": 0
          },
          "base_uri": "https://localhost:8080/",
          "height": 34
        },
        "outputId": "1cac4630-527c-4af0-a24c-18097b957392",
        "executionInfo": {
          "status": "ok",
          "timestamp": 1528093876142,
          "user_tz": -330,
          "elapsed": 1113,
          "user": {
            "displayName": "Piyush Hibare",
            "photoUrl": "https://lh3.googleusercontent.com/a/default-user=s128",
            "userId": "115506593548696884579"
          }
        }
      },
      "cell_type": "code",
      "source": [
        "print((10 + 0 + 20 + 10)/4.)"
      ],
      "execution_count": 44,
      "outputs": [
        {
          "output_type": "stream",
          "text": [
            "10.0\n"
          ],
          "name": "stdout"
        }
      ]
    },
    {
      "metadata": {
        "id": "OyG6xoU1fhrV",
        "colab_type": "code",
        "colab": {
          "autoexec": {
            "startup": false,
            "wait_interval": 0
          },
          "base_uri": "https://localhost:8080/",
          "height": 34
        },
        "outputId": "2008700d-7fcf-4197-c4c3-ceecdbd3a5f0",
        "executionInfo": {
          "status": "ok",
          "timestamp": 1528093896996,
          "user_tz": -330,
          "elapsed": 1188,
          "user": {
            "displayName": "Piyush Hibare",
            "photoUrl": "https://lh3.googleusercontent.com/a/default-user=s128",
            "userId": "115506593548696884579"
          }
        }
      },
      "cell_type": "code",
      "source": [
        "from sklearn import metrics\n",
        "print(metrics.mean_absolute_error(true, pred))"
      ],
      "execution_count": 45,
      "outputs": [
        {
          "output_type": "stream",
          "text": [
            "10.0\n"
          ],
          "name": "stdout"
        }
      ]
    },
    {
      "metadata": {
        "id": "O2LRhpxIfmwc",
        "colab_type": "code",
        "colab": {
          "autoexec": {
            "startup": false,
            "wait_interval": 0
          },
          "base_uri": "https://localhost:8080/",
          "height": 34
        },
        "outputId": "3ad27897-be5e-445b-f4e2-34cd1dee0487",
        "executionInfo": {
          "status": "ok",
          "timestamp": 1528093943394,
          "user_tz": -330,
          "elapsed": 1407,
          "user": {
            "displayName": "Piyush Hibare",
            "photoUrl": "https://lh3.googleusercontent.com/a/default-user=s128",
            "userId": "115506593548696884579"
          }
        }
      },
      "cell_type": "code",
      "source": [
        "print((10**2 + 0**2 + 20**2 + 10**2)/4.)"
      ],
      "execution_count": 46,
      "outputs": [
        {
          "output_type": "stream",
          "text": [
            "150.0\n"
          ],
          "name": "stdout"
        }
      ]
    },
    {
      "metadata": {
        "id": "jxxr58-2fyCA",
        "colab_type": "code",
        "colab": {
          "autoexec": {
            "startup": false,
            "wait_interval": 0
          },
          "base_uri": "https://localhost:8080/",
          "height": 34
        },
        "outputId": "48fc2d63-5534-41cf-caad-6d6c01a83b5e",
        "executionInfo": {
          "status": "ok",
          "timestamp": 1528093958922,
          "user_tz": -330,
          "elapsed": 1226,
          "user": {
            "displayName": "Piyush Hibare",
            "photoUrl": "https://lh3.googleusercontent.com/a/default-user=s128",
            "userId": "115506593548696884579"
          }
        }
      },
      "cell_type": "code",
      "source": [
        "print(metrics.mean_squared_error(true, pred))"
      ],
      "execution_count": 47,
      "outputs": [
        {
          "output_type": "stream",
          "text": [
            "150.0\n"
          ],
          "name": "stdout"
        }
      ]
    },
    {
      "metadata": {
        "id": "7SiWnirCf13a",
        "colab_type": "code",
        "colab": {
          "autoexec": {
            "startup": false,
            "wait_interval": 0
          },
          "base_uri": "https://localhost:8080/",
          "height": 34
        },
        "outputId": "ef663256-ff57-44bb-bc99-ee0b0d9556a0",
        "executionInfo": {
          "status": "ok",
          "timestamp": 1528094098583,
          "user_tz": -330,
          "elapsed": 1120,
          "user": {
            "displayName": "Piyush Hibare",
            "photoUrl": "https://lh3.googleusercontent.com/a/default-user=s128",
            "userId": "115506593548696884579"
          }
        }
      },
      "cell_type": "code",
      "source": [
        "import numpy as np\n",
        "\n",
        "print(np.sqrt((10**2 + 0**2 + 20**2 + 10**2)/4.))"
      ],
      "execution_count": 48,
      "outputs": [
        {
          "output_type": "stream",
          "text": [
            "12.24744871391589\n"
          ],
          "name": "stdout"
        }
      ]
    },
    {
      "metadata": {
        "id": "7eSlRp94gX_A",
        "colab_type": "code",
        "colab": {
          "autoexec": {
            "startup": false,
            "wait_interval": 0
          },
          "base_uri": "https://localhost:8080/",
          "height": 34
        },
        "outputId": "955862d7-8a6e-4195-8c58-08e911eef2c2",
        "executionInfo": {
          "status": "ok",
          "timestamp": 1528094111880,
          "user_tz": -330,
          "elapsed": 1107,
          "user": {
            "displayName": "Piyush Hibare",
            "photoUrl": "https://lh3.googleusercontent.com/a/default-user=s128",
            "userId": "115506593548696884579"
          }
        }
      },
      "cell_type": "code",
      "source": [
        "print(np.sqrt(metrics.mean_squared_error(true, pred)))"
      ],
      "execution_count": 49,
      "outputs": [
        {
          "output_type": "stream",
          "text": [
            "12.24744871391589\n"
          ],
          "name": "stdout"
        }
      ]
    },
    {
      "metadata": {
        "id": "X0E-GWoUgbO8",
        "colab_type": "code",
        "colab": {
          "autoexec": {
            "startup": false,
            "wait_interval": 0
          },
          "base_uri": "https://localhost:8080/",
          "height": 34
        },
        "outputId": "1e5dfbcb-0d0d-4a9a-984f-1c028aa9e1b1",
        "executionInfo": {
          "status": "ok",
          "timestamp": 1528094184031,
          "user_tz": -330,
          "elapsed": 1224,
          "user": {
            "displayName": "Piyush Hibare",
            "photoUrl": "https://lh3.googleusercontent.com/a/default-user=s128",
            "userId": "115506593548696884579"
          }
        }
      },
      "cell_type": "code",
      "source": [
        "print(np.sqrt(metrics.mean_squared_error(y_test, y_pred)))"
      ],
      "execution_count": 50,
      "outputs": [
        {
          "output_type": "stream",
          "text": [
            "1.404651423032895\n"
          ],
          "name": "stdout"
        }
      ]
    },
    {
      "metadata": {
        "id": "7U3i-j2hgs0m",
        "colab_type": "code",
        "colab": {
          "autoexec": {
            "startup": false,
            "wait_interval": 0
          }
        }
      },
      "cell_type": "code",
      "source": [
        ""
      ],
      "execution_count": 0,
      "outputs": []
    }
  ]
}