{
  "nbformat": 4,
  "nbformat_minor": 0,
  "metadata": {
    "colab": {
      "name": "Movie_recommendation_systems.ipynb",
      "version": "0.3.2",
      "views": {},
      "default_view": {},
      "provenance": []
    },
    "kernelspec": {
      "name": "python3",
      "display_name": "Python 3"
    }
  },
  "cells": [
    {
      "metadata": {
        "id": "EpioxfJR4_6i",
        "colab_type": "code",
        "colab": {
          "autoexec": {
            "startup": false,
            "wait_interval": 0
          }
        }
      },
      "cell_type": "code",
      "source": [
        "from lightfm import LightFM"
      ],
      "execution_count": 0,
      "outputs": []
    },
    {
      "metadata": {
        "id": "CFPh75Cbd1P6",
        "colab_type": "code",
        "colab": {
          "autoexec": {
            "startup": false,
            "wait_interval": 0
          }
        }
      },
      "cell_type": "code",
      "source": [
        "import numpy as np"
      ],
      "execution_count": 0,
      "outputs": []
    },
    {
      "metadata": {
        "id": "Q9K7lgXJgCfE",
        "colab_type": "code",
        "colab": {
          "autoexec": {
            "startup": false,
            "wait_interval": 0
          }
        }
      },
      "cell_type": "code",
      "source": [
        "from lightfm.datasets import fetch_movielens"
      ],
      "execution_count": 0,
      "outputs": []
    },
    {
      "metadata": {
        "id": "uE5RcmUkhiFU",
        "colab_type": "code",
        "colab": {
          "autoexec": {
            "startup": false,
            "wait_interval": 0
          }
        }
      },
      "cell_type": "code",
      "source": [
        "data = fetch_movielens(min_rating=4.0)"
      ],
      "execution_count": 0,
      "outputs": []
    },
    {
      "metadata": {
        "id": "0MDJ6RaMpYzo",
        "colab_type": "code",
        "colab": {
          "autoexec": {
            "startup": false,
            "wait_interval": 0
          },
          "base_uri": "https://localhost:8080/",
          "height": 34
        },
        "outputId": "8e131157-c217-42d7-aad9-39c425b27359",
        "executionInfo": {
          "status": "ok",
          "timestamp": 1527655833500,
          "user_tz": -330,
          "elapsed": 1697,
          "user": {
            "displayName": "Piyush Hibare",
            "photoUrl": "https://lh3.googleusercontent.com/a/default-user=s128",
            "userId": "115506593548696884579"
          }
        }
      },
      "cell_type": "code",
      "source": [
        "repr(data['train'])\n",
        "repr(data['test'])"
      ],
      "execution_count": 7,
      "outputs": [
        {
          "output_type": "execute_result",
          "data": {
            "text/plain": [
              "\"<943x1682 sparse matrix of type '<class 'numpy.int32'>'\\n\\twith 5469 stored elements in COOrdinate format>\""
            ]
          },
          "metadata": {
            "tags": []
          },
          "execution_count": 7
        }
      ]
    },
    {
      "metadata": {
        "id": "SSkAR1clpytr",
        "colab_type": "code",
        "colab": {
          "autoexec": {
            "startup": false,
            "wait_interval": 0
          }
        }
      },
      "cell_type": "code",
      "source": [
        "model = LightFM(loss='warp')"
      ],
      "execution_count": 0,
      "outputs": []
    },
    {
      "metadata": {
        "id": "PVW5UwVcqVC5",
        "colab_type": "code",
        "colab": {
          "autoexec": {
            "startup": false,
            "wait_interval": 0
          },
          "base_uri": "https://localhost:8080/",
          "height": 34
        },
        "outputId": "7871883c-5d91-4d4d-d49f-4f5c88070130",
        "executionInfo": {
          "status": "ok",
          "timestamp": 1527655839577,
          "user_tz": -330,
          "elapsed": 2607,
          "user": {
            "displayName": "Piyush Hibare",
            "photoUrl": "https://lh3.googleusercontent.com/a/default-user=s128",
            "userId": "115506593548696884579"
          }
        }
      },
      "cell_type": "code",
      "source": [
        "model.fit(data['train'],epochs=30,num_threads=2)"
      ],
      "execution_count": 9,
      "outputs": [
        {
          "output_type": "execute_result",
          "data": {
            "text/plain": [
              "<lightfm.lightfm.LightFM at 0x7fa790d1fb70>"
            ]
          },
          "metadata": {
            "tags": []
          },
          "execution_count": 9
        }
      ]
    },
    {
      "metadata": {
        "id": "4S1q4WcuqkKB",
        "colab_type": "code",
        "colab": {
          "autoexec": {
            "startup": false,
            "wait_interval": 0
          }
        }
      },
      "cell_type": "code",
      "source": [
        "def sample_recommendation(model, data, user_ids):\n",
        "  n_users, n_items = data['train'].shape\n",
        "  for user_id in user_ids:\n",
        "    known_positives = data['item_labels'][data['train'].tocsr()[user_id].indices]\n",
        "    scores = model.predict(user_id, np.arange(n_items))\n",
        "    top_items = data['item_labels'][np.argsort(-scores)]\n",
        "    print(\"User %s\" % user_id)\n",
        "    print(\"     known positives:\")\n",
        "    for x in known_positives[:3]:\n",
        "      print(\"       %s\" % x)\n",
        "    print(\"  recommended: \")\n",
        "    for x in top_items[:4]:\n",
        "      print(\"      %s\" %x)\n",
        "    "
      ],
      "execution_count": 0,
      "outputs": []
    },
    {
      "metadata": {
        "id": "UrHBkxfGYj1o",
        "colab_type": "code",
        "colab": {
          "autoexec": {
            "startup": false,
            "wait_interval": 0
          },
          "base_uri": "https://localhost:8080/",
          "height": 527
        },
        "outputId": "fed679fb-9f7c-4305-cbab-81be061b6431",
        "executionInfo": {
          "status": "ok",
          "timestamp": 1527659425390,
          "user_tz": -330,
          "elapsed": 3597,
          "user": {
            "displayName": "Piyush Hibare",
            "photoUrl": "https://lh3.googleusercontent.com/a/default-user=s128",
            "userId": "115506593548696884579"
          }
        }
      },
      "cell_type": "code",
      "source": [
        "sample_recommendation(model, data, [13, 25, 450])"
      ],
      "execution_count": 21,
      "outputs": [
        {
          "output_type": "stream",
          "text": [
            "User 13\n",
            "     known positives:\n",
            "       Twelve Monkeys (1995)\n",
            "       Dead Man Walking (1995)\n",
            "       Usual Suspects, The (1995)\n",
            "  recommended: \n",
            "      Fargo (1996)\n",
            "      Godfather, The (1972)\n",
            "      Star Wars (1977)\n",
            "      Blade Runner (1982)\n",
            "User 25\n",
            "     known positives:\n",
            "       Dead Man Walking (1995)\n",
            "       Star Wars (1977)\n",
            "       Fargo (1996)\n",
            "  recommended: \n",
            "      Fargo (1996)\n",
            "      English Patient, The (1996)\n",
            "      Contact (1997)\n",
            "      L.A. Confidential (1997)\n",
            "User 450\n",
            "     known positives:\n",
            "       Contact (1997)\n",
            "       George of the Jungle (1997)\n",
            "       Event Horizon (1997)\n",
            "  recommended: \n",
            "      Saint, The (1997)\n",
            "      I Know What You Did Last Summer (1997)\n",
            "      Devil's Advocate, The (1997)\n",
            "      Scream (1996)\n"
          ],
          "name": "stdout"
        }
      ]
    },
    {
      "metadata": {
        "id": "g6kBliIyfN5C",
        "colab_type": "code",
        "colab": {
          "autoexec": {
            "startup": false,
            "wait_interval": 0
          }
        }
      },
      "cell_type": "code",
      "source": [
        ""
      ],
      "execution_count": 0,
      "outputs": []
    }
  ]
}